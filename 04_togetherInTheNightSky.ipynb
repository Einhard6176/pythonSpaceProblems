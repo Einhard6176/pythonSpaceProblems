{
 "metadata": {
  "language_info": {
   "codemirror_mode": {
    "name": "ipython",
    "version": 3
   },
   "file_extension": ".py",
   "mimetype": "text/x-python",
   "name": "python",
   "nbconvert_exporter": "python",
   "pygments_lexer": "ipython3",
   "version": "3.8.5-final"
  },
  "orig_nbformat": 2,
  "kernelspec": {
   "name": "python3",
   "display_name": "Python 3",
   "language": "python"
  }
 },
 "nbformat": 4,
 "nbformat_minor": 2,
 "cells": [
  {
   "source": [
    "# Computing when two objects will be close form the Earth's POV\n",
    "\n",
    "If we want to determine when two objects (the Moon and Venus in this case) are close together in the Earth's night sky we'll beed to compute the phase angle between the target objects as seen from Earth. "
   ],
   "cell_type": "markdown",
   "metadata": {}
  },
  {
   "cell_type": "code",
   "execution_count": 10,
   "metadata": {},
   "outputs": [],
   "source": [
    "import datetime\n",
    "import spiceypy\n",
    "import numpy as np\n",
    "import pandas as pd"
   ]
  },
  {
   "cell_type": "code",
   "execution_count": 11,
   "metadata": {},
   "outputs": [],
   "source": [
    "datapath = '/home/einhard/Documents/projects/'\n",
    "spiceypy.furnsh(datapath + 'zData/spicepy/meta/_kernels.txt')"
   ]
  },
  {
   "cell_type": "code",
   "execution_count": 12,
   "metadata": {},
   "outputs": [],
   "source": [
    "INIT_TIME_UTC_STR = datetime.datetime(year=2021, month=1, day=1).strftime('%Y-%m-%dT%H:%M:%S')\n",
    "END_TIME_UTC_STR = datetime.datetime(year=2042, month=1, day=1).strftime('%Y-%m-%dT%H:%M:%S')\n",
    "\n",
    "INIT_TIME_ET = spiceypy.utc2et(INIT_TIME_UTC_STR)\n",
    "END_TIME_ET = spiceypy.utc2et(END_TIME_UTC_STR)\n",
    "\n",
    "# Setting number of seconds per hours. Used to compute phase angles in 1 hour steps\n",
    "DELTA_HOUR_IN_SECONDS = 3600.0\n",
    "TIME_INTERVAL_ET = np.arange(INIT_TIME_ET, END_TIME_ET, DELTA_HOUR_IN_SECONDS)"
   ]
  },
  {
   "cell_type": "code",
   "execution_count": 13,
   "metadata": {},
   "outputs": [],
   "source": [
    "INNER_SOLSYS_DF = pd.DataFrame()\n",
    "\n",
    "# Storing ETs\n",
    "INNER_SOLSYS_DF['ET'] = TIME_INTERVAL_ET\n",
    "\n",
    "# Transforming ET back to UTC\n",
    "INNER_SOLSYS_DF['UTC'] = INNER_SOLSYS_DF['ET'].apply(lambda x: spiceypy.et2datetime(et=x))\n",
    "\n",
    "# Computing phase angle between Venus and Sun as seen from Earth. We use the phaseq function; the \"target\" here is the Earth (or the position from which we want to see)\n",
    "# The observer is the planet we are interested in - Venus, in this case\n",
    "\n",
    "INNER_SOLSYS_DF['EARTH_VENUS2SUN_ANGLE'] = \\\n",
    "    INNER_SOLSYS_DF['ET'].apply(lambda x: np.degrees(spiceypy.phaseq(et=x,\n",
    "                                                                     target='399',\n",
    "                                                                     illmn='10',\n",
    "                                                                     obsrvr='299',\n",
    "                                                                     abcorr='LT+S')))\n",
    "\n",
    "# Using the same function to compute the phase angle between Moon and Sun\n",
    "INNER_SOLSYS_DF['EARTH_MOON2SUN_ANGLE'] = \\\n",
    "    INNER_SOLSYS_DF['ET'].apply(lambda x: np.degrees(spiceypy.phaseq(et=x,\n",
    "                                                                     target='399',\n",
    "                                                                     illmn='10',\n",
    "                                                                     obsrvr='301',\n",
    "                                                                     abcorr='LT+S')))\n",
    "\n",
    "# Computing phase angle between Moon and Venus\n",
    "INNER_SOLSYS_DF['EARTH_MOON2VEN_ANGLE'] = \\\n",
    "    INNER_SOLSYS_DF['ET'].apply(lambda x: np.degrees(spiceypy.phaseq(et=x,\n",
    "                                                                     target='399',\n",
    "                                                                     illmn='299',\n",
    "                                                                     obsrvr='301',\n",
    "                                                                     abcorr='LT+S')))"
   ]
  },
  {
   "cell_type": "code",
   "execution_count": 14,
   "metadata": {},
   "outputs": [
    {
     "output_type": "execute_result",
     "data": {
      "text/plain": [
       "                  ET                              UTC  EARTH_VENUS2SUN_ANGLE  \\\n",
       "0       6.627313e+08        2021-01-01 00:00:00+00:00              20.369546   \n",
       "1       6.627349e+08 2021-01-01 00:59:59.999999+00:00              20.359775   \n",
       "2       6.627385e+08 2021-01-01 01:59:59.999998+00:00              20.350004   \n",
       "3       6.627421e+08 2021-01-01 02:59:59.999996+00:00              20.340233   \n",
       "4       6.627457e+08 2021-01-01 03:59:59.999995+00:00              20.330462   \n",
       "...              ...                              ...                    ...   \n",
       "184075  1.325401e+09 2041-12-31 19:00:00.000019+00:00               0.587973   \n",
       "184076  1.325405e+09 2041-12-31 20:00:00.000018+00:00               0.586779   \n",
       "184077  1.325408e+09 2041-12-31 21:00:00.000017+00:00               0.585756   \n",
       "184078  1.325412e+09 2041-12-31 22:00:00.000015+00:00               0.584904   \n",
       "184079  1.325416e+09 2041-12-31 23:00:00.000014+00:00               0.584224   \n",
       "\n",
       "        EARTH_MOON2SUN_ANGLE  EARTH_MOON2VEN_ANGLE  \n",
       "0                 157.770044            137.489106  \n",
       "1                 157.269009            136.996356  \n",
       "2                 156.767557            136.503251  \n",
       "3                 156.265695            136.009791  \n",
       "4                 155.763426            135.515978  \n",
       "...                      ...                   ...  \n",
       "184075            111.106569            111.275627  \n",
       "184076            111.639408            111.798989  \n",
       "184077            112.171977            112.322088  \n",
       "184078            112.704276            112.844923  \n",
       "184079            113.236303            113.367491  \n",
       "\n",
       "[184080 rows x 5 columns]"
      ],
      "text/html": "<div>\n<style scoped>\n    .dataframe tbody tr th:only-of-type {\n        vertical-align: middle;\n    }\n\n    .dataframe tbody tr th {\n        vertical-align: top;\n    }\n\n    .dataframe thead th {\n        text-align: right;\n    }\n</style>\n<table border=\"1\" class=\"dataframe\">\n  <thead>\n    <tr style=\"text-align: right;\">\n      <th></th>\n      <th>ET</th>\n      <th>UTC</th>\n      <th>EARTH_VENUS2SUN_ANGLE</th>\n      <th>EARTH_MOON2SUN_ANGLE</th>\n      <th>EARTH_MOON2VEN_ANGLE</th>\n    </tr>\n  </thead>\n  <tbody>\n    <tr>\n      <th>0</th>\n      <td>6.627313e+08</td>\n      <td>2021-01-01 00:00:00+00:00</td>\n      <td>20.369546</td>\n      <td>157.770044</td>\n      <td>137.489106</td>\n    </tr>\n    <tr>\n      <th>1</th>\n      <td>6.627349e+08</td>\n      <td>2021-01-01 00:59:59.999999+00:00</td>\n      <td>20.359775</td>\n      <td>157.269009</td>\n      <td>136.996356</td>\n    </tr>\n    <tr>\n      <th>2</th>\n      <td>6.627385e+08</td>\n      <td>2021-01-01 01:59:59.999998+00:00</td>\n      <td>20.350004</td>\n      <td>156.767557</td>\n      <td>136.503251</td>\n    </tr>\n    <tr>\n      <th>3</th>\n      <td>6.627421e+08</td>\n      <td>2021-01-01 02:59:59.999996+00:00</td>\n      <td>20.340233</td>\n      <td>156.265695</td>\n      <td>136.009791</td>\n    </tr>\n    <tr>\n      <th>4</th>\n      <td>6.627457e+08</td>\n      <td>2021-01-01 03:59:59.999995+00:00</td>\n      <td>20.330462</td>\n      <td>155.763426</td>\n      <td>135.515978</td>\n    </tr>\n    <tr>\n      <th>...</th>\n      <td>...</td>\n      <td>...</td>\n      <td>...</td>\n      <td>...</td>\n      <td>...</td>\n    </tr>\n    <tr>\n      <th>184075</th>\n      <td>1.325401e+09</td>\n      <td>2041-12-31 19:00:00.000019+00:00</td>\n      <td>0.587973</td>\n      <td>111.106569</td>\n      <td>111.275627</td>\n    </tr>\n    <tr>\n      <th>184076</th>\n      <td>1.325405e+09</td>\n      <td>2041-12-31 20:00:00.000018+00:00</td>\n      <td>0.586779</td>\n      <td>111.639408</td>\n      <td>111.798989</td>\n    </tr>\n    <tr>\n      <th>184077</th>\n      <td>1.325408e+09</td>\n      <td>2041-12-31 21:00:00.000017+00:00</td>\n      <td>0.585756</td>\n      <td>112.171977</td>\n      <td>112.322088</td>\n    </tr>\n    <tr>\n      <th>184078</th>\n      <td>1.325412e+09</td>\n      <td>2041-12-31 22:00:00.000015+00:00</td>\n      <td>0.584904</td>\n      <td>112.704276</td>\n      <td>112.844923</td>\n    </tr>\n    <tr>\n      <th>184079</th>\n      <td>1.325416e+09</td>\n      <td>2041-12-31 23:00:00.000014+00:00</td>\n      <td>0.584224</td>\n      <td>113.236303</td>\n      <td>113.367491</td>\n    </tr>\n  </tbody>\n</table>\n<p>184080 rows × 5 columns</p>\n</div>"
     },
     "metadata": {},
     "execution_count": 14
    }
   ],
   "source": [
    "INNER_SOLSYS_DF"
   ]
  },
  {
   "cell_type": "code",
   "execution_count": 15,
   "metadata": {},
   "outputs": [],
   "source": [
    "# Creating a binary column with 1 = good angles, 0 = bad angles\n",
    "# Conditions: Sun-Venus theta > 30, Sun-Moon theta > 30, Moon-Venus theta < 10\n",
    "\n",
    "INNER_SOLSYS_DF['PHOTOGENIC'] = \\\n",
    "    INNER_SOLSYS_DF.apply(lambda x: 1 if (x['EARTH_VENUS2SUN_ANGLE'] > 30.0) \\\n",
    "                                       & (x['EARTH_MOON2SUN_ANGLE'] > 30.0) \\\n",
    "                                       & (x['EARTH_MOON2VEN_ANGLE'] < 10.0) \\\n",
    "                                        else 0, axis=1)"
   ]
  },
  {
   "cell_type": "code",
   "execution_count": 16,
   "metadata": {},
   "outputs": [
    {
     "output_type": "stream",
     "name": "stdout",
     "text": [
      "Number of hours computed: 184080 (around 7670) days\nNumber of photogenic hours: 4176\n"
     ]
    }
   ],
   "source": [
    "print(f'Number of hours computed: {len(INNER_SOLSYS_DF)} (around {round(len(INNER_SOLSYS_DF) / 24)}) days')\n",
    "\n",
    "print(f'Number of photogenic hours: {len(INNER_SOLSYS_DF[INNER_SOLSYS_DF[\"PHOTOGENIC\"] == 1])}')"
   ]
  },
  {
   "cell_type": "code",
   "execution_count": 18,
   "metadata": {},
   "outputs": [
    {
     "output_type": "error",
     "ename": "NameError",
     "evalue": "name 'locator' is not defined",
     "traceback": [
      "\u001b[0;31m---------------------------------------------------------------------------\u001b[0m",
      "\u001b[0;31mNameError\u001b[0m                                 Traceback (most recent call last)",
      "\u001b[0;32m<ipython-input-18-5ca1fa818cdc>\u001b[0m in \u001b[0;36m<module>\u001b[0;34m\u001b[0m\n\u001b[1;32m     30\u001b[0m \u001b[0;31m# Setting fomat for datetime\u001b[0m\u001b[0;34m\u001b[0m\u001b[0;34m\u001b[0m\u001b[0;34m\u001b[0m\u001b[0m\n\u001b[1;32m     31\u001b[0m \u001b[0max\u001b[0m\u001b[0;34m.\u001b[0m\u001b[0mxaxis\u001b[0m\u001b[0;34m.\u001b[0m\u001b[0mset_major_formatter\u001b[0m\u001b[0;34m(\u001b[0m\u001b[0mmatpl_dates\u001b[0m\u001b[0;34m.\u001b[0m\u001b[0mDateFormatter\u001b[0m\u001b[0;34m(\u001b[0m\u001b[0;34m'%Y-%b'\u001b[0m\u001b[0;34m)\u001b[0m\u001b[0;34m)\u001b[0m\u001b[0;34m\u001b[0m\u001b[0;34m\u001b[0m\u001b[0m\n\u001b[0;32m---> 32\u001b[0;31m \u001b[0mlocator\u001b[0m\u001b[0;34m.\u001b[0m\u001b[0mMAXTICKS\u001b[0m \u001b[0;34m=\u001b[0m \u001b[0;36m10000\u001b[0m\u001b[0;34m\u001b[0m\u001b[0;34m\u001b[0m\u001b[0m\n\u001b[0m\u001b[1;32m     33\u001b[0m \u001b[0;31m# Drawing vertical lines for photogenic conditions\u001b[0m\u001b[0;34m\u001b[0m\u001b[0;34m\u001b[0m\u001b[0;34m\u001b[0m\u001b[0m\n\u001b[1;32m     34\u001b[0m \u001b[0;32mfor\u001b[0m \u001b[0mphotogenic_utc\u001b[0m \u001b[0;32min\u001b[0m \u001b[0mINNER_SOLSYS_DF\u001b[0m\u001b[0;34m[\u001b[0m\u001b[0mINNER_SOLSYS_DF\u001b[0m\u001b[0;34m[\u001b[0m\u001b[0;34m'PHOTOGENIC'\u001b[0m\u001b[0;34m]\u001b[0m \u001b[0;34m==\u001b[0m \u001b[0;36m1\u001b[0m\u001b[0;34m]\u001b[0m\u001b[0;34m[\u001b[0m\u001b[0;34m'UTC'\u001b[0m\u001b[0;34m]\u001b[0m\u001b[0;34m:\u001b[0m\u001b[0;34m\u001b[0m\u001b[0;34m\u001b[0m\u001b[0m\n",
      "\u001b[0;31mNameError\u001b[0m: name 'locator' is not defined"
     ]
    }
   ],
   "source": [
    "# Plotting photogenic days\n",
    "\n",
    "from matplotlib import pyplot as plt\n",
    "import matplotlib.dates as matpl_dates\n",
    "\n",
    "fix, ax = plt.subplots(figsize=(15,12))\n",
    "\n",
    "# Plotting miscellaneous phase angles\n",
    "ax.plot(INNER_SOLSYS_DF['UTC'], INNER_SOLSYS_DF['EARTH_VENUS2SUN_ANGLE'],\n",
    "        color='tab:orange', label='Venus - Sun')\n",
    "\n",
    "ax.plot(INNER_SOLSYS_DF['UTC'], INNER_SOLSYS_DF['EARTH_MOON2SUN_ANGLE'],\n",
    "        color='tab:gray', label='Moon - Sun')\n",
    "\n",
    "ax.plot(INNER_SOLSYS_DF['UTC'], INNER_SOLSYS_DF['EARTH_MOON2VEN_ANGLE'],\n",
    "        color='black', label='Moon - Venus')\n",
    "\n",
    "# Setting axis labels\n",
    "ax.set_ylabel('Angle in degrees')\n",
    "ax.set_xlabel('Date in UTC')\n",
    "\n",
    "# Setting limits and grid\n",
    "ax.set_xlim(min(INNER_SOLSYS_DF['UTC']), max(INNER_SOLSYS_DF['UTC']))\n",
    "ax.grid(axis='x', linestyle='dashed', alpha=0.5)\n",
    "\n",
    "# Setting month and day locator\n",
    "ax.xaxis.set_major_locator(matpl_dates.MonthLocator())\n",
    "ax.xaxis.set_minor_locator(matpl_dates.DayLocator())\n",
    "\n",
    "# Setting fomat for datetime\n",
    "ax.xaxis.set_major_formatter(matpl_dates.DateFormatter('%Y-%b'))\n",
    "# Drawing vertical lines for photogenic conditions\n",
    "for photogenic_utc in INNER_SOLSYS_DF[INNER_SOLSYS_DF['PHOTOGENIC'] == 1]['UTC']:\n",
    "    ax.axvline(photogenic_utc, color='tab:blue', alpha=0.2)\n",
    "\n",
    "# Creating legend\n",
    "ax.legend(fancybox=True, loc='upper right', framealpha=1)\n",
    "\n",
    "# Rotating datetimes\n",
    "plt.xticks(rotation=45)\n",
    "\n",
    "plt.show()\n",
    "# Saving fig\n",
    "# plt.savefig('figures/VENUS_SUN_MOON.png', dpi=300)\n"
   ]
  },
  {
   "cell_type": "code",
   "execution_count": null,
   "metadata": {},
   "outputs": [],
   "source": []
  }
 ]
}