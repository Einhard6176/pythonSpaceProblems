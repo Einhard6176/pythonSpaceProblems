{
 "metadata": {
  "language_info": {
   "codemirror_mode": {
    "name": "ipython",
    "version": 3
   },
   "file_extension": ".py",
   "mimetype": "text/x-python",
   "name": "python",
   "nbconvert_exporter": "python",
   "pygments_lexer": "ipython3",
   "version": 3
  },
  "orig_nbformat": 2
 },
 "nbformat": 4,
 "nbformat_minor": 2,
 "cells": [
  {
   "source": [
    "#  Space Maps\n",
    "\n",
    "## Ecliptic coordinate system\n",
    "\n",
    "The ecliptic coordinate system is defined by the ecliptic plan and the position of the Earth WRT the Sun at the Vernal Equinox, i.e. on the Vernal Equinox, we define an x-axis as the line that points from Earth to the Sun. As a result of this, we get a plane based on the orbit of the Earth around the Sun, which allows us to define the z-axis as perpendicular to this plane. The y-axis, then, is the result of the right-hand rule.\n",
    "\n",
    "Now we have a 3-dimensional vector that can be transformed into spherical coordinates by describing the radius, azimuth, and inclination. If we project those three values into a sphere of radius = 1 we can create a sky map.\n",
    "\n",
    "On the sky map, we use the following coordinates to describe positions:\n",
    "* **Longitude** (l): Defined from 0° to 360°. On the Ecliptic Coordinate System, a longitude of 0° is the line of the Vernal Equinox\n",
    "* **Latitude** (b): Defined with a range of \\[-90°, 90°] (from south pole to north pole of the *sphere*). Values of 0° lie on the equator\n",
    "\n",
    "As a result, l=0°, b=0° is the Vernal Equinox point.\n",
    "\n",
    "![eclipticCoordinateSystem]('/home/einhard/Documents/projects/pythonSpaceProblems/images/ecliptic_coordinate_system.png')"
   ],
   "cell_type": "markdown",
   "metadata": {}
  },
  {
   "cell_type": "code",
   "execution_count": null,
   "metadata": {},
   "outputs": [],
   "source": []
  }
 ]
}