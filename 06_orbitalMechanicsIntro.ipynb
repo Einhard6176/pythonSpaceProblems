{
 "metadata": {
  "language_info": {
   "codemirror_mode": {
    "name": "ipython",
    "version": 3
   },
   "file_extension": ".py",
   "mimetype": "text/x-python",
   "name": "python",
   "nbconvert_exporter": "python",
   "pygments_lexer": "ipython3",
   "version": "3.8.5-final"
  },
  "orig_nbformat": 2,
  "kernelspec": {
   "name": "python3",
   "display_name": "Python 3",
   "language": "python"
  }
 },
 "nbformat": 4,
 "nbformat_minor": 2,
 "cells": [
  {
   "source": [
    "# Orbital Mechanics\n",
    "\n",
    "The first thing to know is that planetary orbits are almost perfect circles. The ellipse that they form can be derived with the *vis viva* equation, and the derived parameters are:\n",
    "\n",
    "* **Semi-major axis (*a*)**: This describes the longest radius of an ellipse. The smallest radius is known as the semi-minor axis (*b*).\n",
    "\n",
    "* **Eccentricity (*e*)** describes the deviation of an ellipse from a perfect circle where: <br>\n",
    "    * $e = 0$ (circle)\n",
    "    * $0 < e < 1$ (ellipse)\n",
    "    * $e = 1$ (parabola)\n",
    "    * $e > 1$ (hyperbola)\n",
    "\n",
    "* **Inclination (*i*)** is the angle between the orbit's plane and a reference plane (e.g. *ECLIPJ2000*). Each case is described by *i*:\n",
    "    * $0°≤i<90°$ (Prograde orbit)\n",
    "    * $i=90°$ (Polar orbit)\n",
    "    * $90°<i≤180°$ (Retrograde orbit)\n",
    "\n",
    "* **Longitude of ascending node ($\\Omega$)** describes where the *ascending orbit* crosses the reference plane with respect to a reference point. For instance, with *ECLIPJ2000* as reference plane, the reference point is the Vernal Equinox direction. At this node, the object moves from the southern to the northern hemisphere of the reference frame.\n",
    "\n",
    "* **Argument of periapsis ($\\omega$)** describes the angular distance between the periapsis (as seen from the focal point) and the longitude of the ascending node. The periapsis is the closest point around a center of mass and can be computed with $(1-e)a$, while the apoapsis can be computed with $(1+e)a$.\n",
    "\n",
    "* **True Anomaly (*v*, v)** is the angle between the body's position as seen from the focal point WRT the argument of periapsis. This is used to determine the actual position of an object at a certain time.\n",
    "\n",
    "* **Mean Anomaly (*M*)** describes a virtual position of an object drawn on an imaginary circle around the focal point of the ellipse. This is because the angular speed of $v$ changes over time (compare speed at periapsis and apoapsis, for instance). The angular speed of $M$ remains constant.\n",
    "\n",
    "![orbitalMechanics](https://upload.wikimedia.org/wikipedia/commons/thumb/e/eb/Orbit1.svg/640px-Orbit1.svg.png?1609882757643)\n",
    "\n"
   ],
   "cell_type": "markdown",
   "metadata": {}
  },
  {
   "source": [
    "## Deriving Ceres"
   ],
   "cell_type": "markdown",
   "metadata": {}
  },
  {
   "cell_type": "code",
   "execution_count": 1,
   "metadata": {},
   "outputs": [],
   "source": [
    "import datetime\n",
    "import pathlib\n",
    "import urllib\n",
    "import os\n",
    "\n",
    "import numpy as np\n",
    "import spiceypy"
   ]
  },
  {
   "cell_type": "code",
   "execution_count": 3,
   "metadata": {},
   "outputs": [],
   "source": [
    "# Creating a kernel download function\n",
    "def download_kernel (dl_path, dl_url):\n",
    "    \"\"\"\n",
    "    download_kernel (DL_PATH, DL_URL)\n",
    "\n",
    "    Function used to download kernel files from NASA NAIF repository\n",
    "\n",
    "    Params:\n",
    "    ------\n",
    "    DL_PATH : str\n",
    "        Download path on local machine\n",
    "    DL_URK : str\n",
    "        Download url of the kernel file\n",
    "    \"\"\"\n",
    "\n",
    "    # Acquiring kernel name from URL string\n",
    "    file_name = dl_url.split('/')[-1]\n",
    "\n",
    "    # Create sub-directories in DL_PATH if they don't exist\n",
    "    pathlib.Path(dl_path).mkdir(exist_ok=True)\n",
    "\n",
    "    # If file not present, download\n",
    "    if not os.path.isfile(dl_path+file_name):\n",
    "        urllib.request.urlretrieve(dl_url, dl_path + file_name)"
   ]
  },
  {
   "cell_type": "code",
   "execution_count": 4,
   "metadata": {},
   "outputs": [],
   "source": [
    "PATH = '/home/einhard/Documents/projects/zData/spicepy/spk/'\n",
    "URL = 'https://naif.jpl.nasa.gov/pub/naif/generic_kernels/spk/asteroids/' + 'codes_300ast_20100725.bsp'\n",
    "\n",
    "download_kernel(PATH, URL)\n",
    "\n",
    "PATH = '/home/einhard/Documents/projects/zData/spicepy/misc/' \n",
    "URL =  'https://naif.jpl.nasa.gov/pub/naif/generic_kernels/spk/asteroids/' + 'codes_300ast_20100725.tf' \n",
    "\n",
    "download_kernel(PATH, URL)"
   ]
  },
  {
   "cell_type": "code",
   "execution_count": 6,
   "metadata": {},
   "outputs": [],
   "source": [
    "spiceypy.furnsh('/home/einhard/Documents/projects/zData/spicepy/meta/_kernels_part6.txt')\n",
    "\n",
    "datetime_UTC = datetime.datetime.now().strftime('%y-%m-%dT%H:%M:%S')\n",
    "datetime_ET = spiceypy.utc2et(datetime_UTC)"
   ]
  },
  {
   "source": [
    "### Comparing *ECLIPJ2000* and *ECLIPJ2000_DE405*"
   ],
   "cell_type": "markdown",
   "metadata": {}
  },
  {
   "cell_type": "code",
   "execution_count": null,
   "metadata": {},
   "outputs": [],
   "source": []
  }
 ]
}