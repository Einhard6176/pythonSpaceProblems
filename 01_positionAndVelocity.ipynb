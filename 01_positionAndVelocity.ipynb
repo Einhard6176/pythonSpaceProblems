{
 "metadata": {
  "language_info": {
   "codemirror_mode": {
    "name": "ipython",
    "version": 3
   },
   "file_extension": ".py",
   "mimetype": "text/x-python",
   "name": "python",
   "nbconvert_exporter": "python",
   "pygments_lexer": "ipython3",
   "version": "3.8.5-final"
  },
  "orig_nbformat": 2,
  "kernelspec": {
   "name": "python3",
   "display_name": "Python 3",
   "language": "python"
  }
 },
 "nbformat": 4,
 "nbformat_minor": 2,
 "cells": [
  {
   "cell_type": "code",
   "execution_count": 1,
   "metadata": {},
   "outputs": [],
   "source": [
    "import spiceypy\n",
    "import datetime"
   ]
  },
  {
   "cell_type": "code",
   "execution_count": 2,
   "metadata": {},
   "outputs": [],
   "source": [
    "datapath = '/home/einhard/Documents/projects/zData/spicepy/'"
   ]
  },
  {
   "cell_type": "code",
   "execution_count": 3,
   "metadata": {},
   "outputs": [
    {
     "output_type": "error",
     "ename": "SpiceNOLEAPSECONDS",
     "evalue": "\n================================================================================\n\nToolkit version: CSPICE66\n\nSPICE(NOLEAPSECONDS) --\n\nThe variable that points to the leapseconds (DELTET/DELTA_AT) could not be located in the kernel pool.  It is likely that the leapseconds kernel has not been loaded via the routine FURNSH.\n\nutc2et_c --> UTC2ET --> TTRANS\n\n================================================================================",
     "traceback": [
      "\u001b[0;31m---------------------------------------------------------------------------\u001b[0m",
      "\u001b[0;31mSpiceNOLEAPSECONDS\u001b[0m                        Traceback (most recent call last)",
      "\u001b[0;32m<ipython-input-3-8958d762b6ed>\u001b[0m in \u001b[0;36m<module>\u001b[0;34m\u001b[0m\n\u001b[1;32m      3\u001b[0m \u001b[0;34m\u001b[0m\u001b[0m\n\u001b[1;32m      4\u001b[0m \u001b[0;31m# Converting to ephemeris time\u001b[0m\u001b[0;34m\u001b[0m\u001b[0;34m\u001b[0m\u001b[0;34m\u001b[0m\u001b[0m\n\u001b[0;32m----> 5\u001b[0;31m \u001b[0met_today_midnight\u001b[0m \u001b[0;34m=\u001b[0m \u001b[0mspiceypy\u001b[0m\u001b[0;34m.\u001b[0m\u001b[0mutc2et\u001b[0m\u001b[0;34m(\u001b[0m\u001b[0mdate_today\u001b[0m\u001b[0;34m)\u001b[0m\u001b[0;34m\u001b[0m\u001b[0;34m\u001b[0m\u001b[0m\n\u001b[0m",
      "\u001b[0;32m~/miniconda3/lib/python3.8/site-packages/spiceypy/spiceypy.py\u001b[0m in \u001b[0;36mwith_errcheck\u001b[0;34m(*args, **kwargs)\u001b[0m\n\u001b[1;32m    106\u001b[0m         \u001b[0;32mtry\u001b[0m\u001b[0;34m:\u001b[0m\u001b[0;34m\u001b[0m\u001b[0;34m\u001b[0m\u001b[0m\n\u001b[1;32m    107\u001b[0m             \u001b[0mres\u001b[0m \u001b[0;34m=\u001b[0m \u001b[0mf\u001b[0m\u001b[0;34m(\u001b[0m\u001b[0;34m*\u001b[0m\u001b[0margs\u001b[0m\u001b[0;34m,\u001b[0m \u001b[0;34m**\u001b[0m\u001b[0mkwargs\u001b[0m\u001b[0;34m)\u001b[0m\u001b[0;34m\u001b[0m\u001b[0;34m\u001b[0m\u001b[0m\n\u001b[0;32m--> 108\u001b[0;31m             \u001b[0mcheck_for_spice_error\u001b[0m\u001b[0;34m(\u001b[0m\u001b[0mf\u001b[0m\u001b[0;34m)\u001b[0m\u001b[0;34m\u001b[0m\u001b[0;34m\u001b[0m\u001b[0m\n\u001b[0m\u001b[1;32m    109\u001b[0m             \u001b[0;32mreturn\u001b[0m \u001b[0mres\u001b[0m\u001b[0;34m\u001b[0m\u001b[0;34m\u001b[0m\u001b[0m\n\u001b[1;32m    110\u001b[0m         \u001b[0;32mexcept\u001b[0m \u001b[0mBaseException\u001b[0m\u001b[0;34m:\u001b[0m\u001b[0;34m\u001b[0m\u001b[0;34m\u001b[0m\u001b[0m\n",
      "\u001b[0;32m~/miniconda3/lib/python3.8/site-packages/spiceypy/spiceypy.py\u001b[0m in \u001b[0;36mcheck_for_spice_error\u001b[0;34m(f)\u001b[0m\n\u001b[1;32m     89\u001b[0m         \u001b[0mtraceback\u001b[0m \u001b[0;34m=\u001b[0m \u001b[0mqcktrc\u001b[0m\u001b[0;34m(\u001b[0m\u001b[0;36m200\u001b[0m\u001b[0;34m)\u001b[0m\u001b[0;34m\u001b[0m\u001b[0;34m\u001b[0m\u001b[0m\n\u001b[1;32m     90\u001b[0m         \u001b[0mreset\u001b[0m\u001b[0;34m(\u001b[0m\u001b[0;34m)\u001b[0m\u001b[0;34m\u001b[0m\u001b[0;34m\u001b[0m\u001b[0m\n\u001b[0;32m---> 91\u001b[0;31m         raise stypes.dynamically_instantiate_spiceyerror(\n\u001b[0m\u001b[1;32m     92\u001b[0m             \u001b[0mshort\u001b[0m\u001b[0;34m=\u001b[0m\u001b[0mshort\u001b[0m\u001b[0;34m,\u001b[0m \u001b[0mexplain\u001b[0m\u001b[0;34m=\u001b[0m\u001b[0mexplain\u001b[0m\u001b[0;34m,\u001b[0m \u001b[0mlong\u001b[0m\u001b[0;34m=\u001b[0m\u001b[0mlong\u001b[0m\u001b[0;34m,\u001b[0m \u001b[0mtraceback\u001b[0m\u001b[0;34m=\u001b[0m\u001b[0mtraceback\u001b[0m\u001b[0;34m\u001b[0m\u001b[0;34m\u001b[0m\u001b[0m\n\u001b[1;32m     93\u001b[0m         )\n",
      "\u001b[0;31mSpiceNOLEAPSECONDS\u001b[0m: \n================================================================================\n\nToolkit version: CSPICE66\n\nSPICE(NOLEAPSECONDS) --\n\nThe variable that points to the leapseconds (DELTET/DELTA_AT) could not be located in the kernel pool.  It is likely that the leapseconds kernel has not been loaded via the routine FURNSH.\n\nutc2et_c --> UTC2ET --> TTRANS\n\n================================================================================"
     ]
    }
   ],
   "source": [
    "date_today = datetime.datetime.today()\n",
    "date_today = date_today.strftime('%Y-%m-%dT00:00:00')\n",
    "\n",
    "# Converting to ephemeris time\n",
    "et_today_midnight = spiceypy.utc2et(date_today)"
   ]
  },
  {
   "source": [
    "The error above was thrown because *spicepy* needs to load the kernels for each mission, each session. They are not integrated with the spicepy library; instead, we can use the `spicepy.furnsh` function to load the required kernels from our hard drive:\n"
   ],
   "cell_type": "markdown",
   "metadata": {}
  },
  {
   "cell_type": "code",
   "execution_count": 4,
   "metadata": {},
   "outputs": [],
   "source": [
    "spiceypy.furnsh(datapath + 'lsk/naif0012.tls')"
   ]
  },
  {
   "cell_type": "code",
   "execution_count": 5,
   "metadata": {},
   "outputs": [],
   "source": [
    "et_today_midnight = spiceypy.utc2et(date_today)"
   ]
  },
  {
   "cell_type": "code",
   "execution_count": 6,
   "metadata": {},
   "outputs": [
    {
     "output_type": "stream",
     "name": "stdout",
     "text": [
      "The datetime 2020-12-17T00:00:00 in ephemeris time is: 661435269.183502\n"
     ]
    }
   ],
   "source": [
    "print(f'The datetime {date_today} in ephemeris time is: {et_today_midnight}')"
   ]
  },
  {
   "source": [
    "To calculate the Earth's state vector we have to use the [NAIF IDs](https://naif.jpl.nasa.gov/pub/naif/toolkit_docs/C/req/naif_ids.html) to identify objects. \n",
    "Positive numbers are solar system bodiues, while negative numbers are spacecraft IDs. each instrument on a given spacecraft can be derived by multiplying the spacecraft ID by 1000 and then subtracting the ordinal number of the instrument.\n",
    "\n",
    "$instrument = (Spacecraft ID * 1000) - InstrumentNo.$\n",
    "\n",
    "The first 10 positive codes are used for Sun and planetary barycenters, i.e <br>\n",
    "`0 = Solar System Barycenter`<br> `5 = Jupiter Barycenter`<br> etc. \n",
    "\n",
    "Planets and satellites are coded with a three digit number; the first number is its position in the solar system, while the last two refer to body's satellites - note that 99 is reserved for the planet itself:\n",
    "\n",
    "`299 = Venus` <br> \n",
    "`301 = Moon` <br>\n",
    "`399 = Earth`"
   ],
   "cell_type": "markdown",
   "metadata": {}
  },
  {
   "cell_type": "code",
   "execution_count": 7,
   "metadata": {},
   "outputs": [
    {
     "output_type": "error",
     "ename": "NameError",
     "evalue": "name 'ET_TODAY_MIDNIGHT' is not defined",
     "traceback": [
      "\u001b[0;31m---------------------------------------------------------------------------\u001b[0m",
      "\u001b[0;31mNameError\u001b[0m                                 Traceback (most recent call last)",
      "\u001b[0;32m<ipython-input-7-f6d211869757>\u001b[0m in \u001b[0;36m<module>\u001b[0;34m\u001b[0m\n\u001b[1;32m      9\u001b[0m \u001b[0;34m\u001b[0m\u001b[0m\n\u001b[1;32m     10\u001b[0m EARTH_STATE_WRT_SUN, EARTH_SUN_LT = spiceypy.spkgeo(targ=399, \\\n\u001b[0;32m---> 11\u001b[0;31m                                                     \u001b[0met\u001b[0m\u001b[0;34m=\u001b[0m\u001b[0mET_TODAY_MIDNIGHT\u001b[0m\u001b[0;34m,\u001b[0m\u001b[0;31m \u001b[0m\u001b[0;31m\\\u001b[0m\u001b[0;34m\u001b[0m\u001b[0;34m\u001b[0m\u001b[0m\n\u001b[0m\u001b[1;32m     12\u001b[0m                                                     \u001b[0mref\u001b[0m\u001b[0;34m=\u001b[0m\u001b[0;34m'ECLIPJ2000'\u001b[0m\u001b[0;34m,\u001b[0m\u001b[0;31m \u001b[0m\u001b[0;31m\\\u001b[0m\u001b[0;34m\u001b[0m\u001b[0;34m\u001b[0m\u001b[0m\n\u001b[1;32m     13\u001b[0m                                                     obs=10)\n",
      "\u001b[0;31mNameError\u001b[0m: name 'ET_TODAY_MIDNIGHT' is not defined"
     ]
    }
   ],
   "source": [
    "# With the curent ET time in hand and the body ID known, we can calculate the current state of said body (the position and velocity). With the spkgeo function we can find the state vector and the light time of the body (light time is the travel time of light between the Sun and the target body). \n",
    "\n",
    "# Positions are in km, velocities in km/s, times in seconds.\n",
    "\n",
    "# targ: the object we are interested in (NAIF ID)\n",
    "# et: the ET of the computation\n",
    "# ref: The reference frame. ECLIPJ2000 is the reference frame\n",
    "# obs: The observer. That is, the center of the state vector calculation\n",
    "\n",
    "EARTH_STATE_WRT_SUN, EARTH_SUN_LT = spiceypy.spkgeo(targ=399, \\\n",
    "                                                    et=ET_TODAY_MIDNIGHT, \\\n",
    "                                                    ref='ECLIPJ2000', \\\n",
    "                                                    obs=10)"
   ]
  },
  {
   "cell_type": "code",
   "execution_count": 8,
   "metadata": {},
   "outputs": [],
   "source": [
    "spiceypy.furnsh(datapath + 'spk/de432s.bsp')"
   ]
  },
  {
   "cell_type": "code",
   "execution_count": 9,
   "metadata": {},
   "outputs": [],
   "source": [
    "EARTH_STATE_WRT_SUN, EARTH_SUN_LT = spiceypy.spkgeo(targ=399, \\\n",
    "                                                    et=et_today_midnight, \\\n",
    "                                                    ref='ECLIPJ2000', \\\n",
    "                                                    obs=10)"
   ]
  },
  {
   "cell_type": "code",
   "execution_count": 10,
   "metadata": {},
   "outputs": [
    {
     "output_type": "stream",
     "name": "stdout",
     "text": [
      "State vector of the Earth WRT the Sun for 2020-12-17T00:00:00: \n\n [ 1.22713415e+07  1.46703924e+08 -6.67061039e+03 -3.01822425e+01\n  2.36628969e+00  9.58957907e-04]\n"
     ]
    }
   ],
   "source": [
    "print(f'State vector of the Earth WRT the Sun for {date_today}: \\n\\n {EARTH_STATE_WRT_SUN}')"
   ]
  },
  {
   "source": [
    "The state vector list is 6-dimensional: the first three values are x, y, z in km and their corresponding velocities in km/s"
   ],
   "cell_type": "markdown",
   "metadata": {}
  },
  {
   "source": [
    "# Calculating Earth-Sun distance\n",
    "import math\n",
    "EARTH_SUN_DISTANCE = math.sqrt(EARTH_STATE_WRT_SUN[0]**2.0 \\\n",
    "                             + EARTH_STATE_WRT_SUN[1]**2.0 \\\n",
    "                             + EARTH_STATE_WRT_SUN[2]**2.0)"
   ],
   "cell_type": "code",
   "metadata": {},
   "execution_count": 11,
   "outputs": []
  },
  {
   "cell_type": "code",
   "execution_count": 12,
   "metadata": {},
   "outputs": [
    {
     "output_type": "stream",
     "name": "stdout",
     "text": [
      "Earth-Sun distance in km: 147216259.62814638\n"
     ]
    }
   ],
   "source": [
    "print(f'Earth-Sun distance in km: {EARTH_SUN_DISTANCE}')"
   ]
  },
  {
   "cell_type": "code",
   "execution_count": 13,
   "metadata": {},
   "outputs": [
    {
     "output_type": "stream",
     "name": "stdout",
     "text": [
      "Earth-Sun distance in AU: 0.9840799138666045\n"
     ]
    }
   ],
   "source": [
    "# To convert the km values in AU we can use the SPICE *convrt* function\n",
    "EARTH_SUN_DISTANCE_AU = spiceypy.convrt(EARTH_SUN_DISTANCE, 'km', 'AU')\n",
    "print(f'Earth-Sun distance in AU: {EARTH_SUN_DISTANCE_AU}')"
   ]
  },
  {
   "source": [
    "# Calculating orbital speed of Earth WRT Sun\n",
    "EARTH_ORB_SPEED_WRT_SUN = math.sqrt(EARTH_STATE_WRT_SUN[3]**2.0 \\\n",
    "                                  + EARTH_STATE_WRT_SUN[4]**2.0 \\\n",
    "                                  + EARTH_STATE_WRT_SUN[5]**2.0)\n",
    "print(f'Current orbial speed of Earth WRT Sun: {EARTH_ORB_SPEED_WRT_SUN} km/s')"
   ],
   "cell_type": "code",
   "metadata": {},
   "execution_count": 14,
   "outputs": [
    {
     "output_type": "stream",
     "name": "stdout",
     "text": [
      "Current orbial speed of Earth WRT Sun: 30.274859024388682 km/s\n"
     ]
    }
   ]
  },
  {
   "source": [
    "Another way to calculate orbital velocities is using this equation:\n",
    "\n",
    "$ v_{orb} = sqrt(GM / r)$\n",
    "\n",
    "where: <br><br>\n",
    "    G = gravitational constant <br>\n",
    "    M = mass of observing body <br>\n",
    "    r = distance between bodies <br>\n",
    "<br>\n",
    "\n",
    "To find the required information we can load a PCK (Planetary Constants Kernel)"
   ],
   "cell_type": "markdown",
   "metadata": {}
  },
  {
   "source": [
    "# With the function bodvcd we get the G*M value for the Sun (bodvcd doc). The bodyid is again 10, the required item is GM and maxn is an input parameter that sets the number of expected returns (here, it is 1):\n",
    "\n",
    "# Loading kernel\n",
    "spiceypy.furnsh(datapath + 'pck/gm_de431.tpc')\n",
    "_, GM_SUN = spiceypy.bodvcd(bodyid=10, item='GM', maxn=1)\n",
    "\n",
    "# Computing orbital speed\n",
    "V_ORB_FUNC = lambda gm, r: math.sqrt(gm/r)\n",
    "EARTH_ORD_SPEED_WRT_SUN_THEORY = V_ORB_FUNC(GM_SUN[0], EARTH_SUN_DISTANCE)\n",
    "\n",
    "# Printing result\n",
    "print(f'Theoretical orbital velocity of Earth WRT Sun: {EARTH_ORD_SPEED_WRT_SUN_THEORY} km/s')"
   ],
   "cell_type": "code",
   "metadata": {},
   "execution_count": 15,
   "outputs": [
    {
     "output_type": "stream",
     "name": "stdout",
     "text": [
      "Theoretical orbital velocity of Earth WRT Sun: 30.024648198769867 km/s\n"
     ]
    }
   ]
  },
  {
   "cell_type": "code",
   "execution_count": null,
   "metadata": {},
   "outputs": [],
   "source": []
  },
  {
   "cell_type": "code",
   "execution_count": null,
   "metadata": {},
   "outputs": [],
   "source": []
  },
  {
   "cell_type": "code",
   "execution_count": null,
   "metadata": {},
   "outputs": [],
   "source": []
  }
 ]
}